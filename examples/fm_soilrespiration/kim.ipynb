{
 "cells": [
  {
   "cell_type": "markdown",
   "metadata": {},
   "source": [
    "This notebook is used to perform KIM to predict soil respirations from selected predictors using SRDB database."
   ]
  },
  {
   "cell_type": "code",
   "execution_count": 7,
   "metadata": {},
   "outputs": [],
   "source": [
    "# Libraries\n",
    "from pathlib import Path\n",
    "import pandas as pd\n",
    "\n",
    "from kim.map import KIM\n",
    "from kim.data import Data\n",
    "from kim.mapping_model import MLP\n"
   ]
  },
  {
   "cell_type": "markdown",
   "metadata": {},
   "source": [
    "# Read the data"
   ]
  },
  {
   "cell_type": "code",
   "execution_count": 2,
   "metadata": {},
   "outputs": [],
   "source": [
    "# File and folder paths\n",
    "f_data = Path('./selected_SRDB.csv')"
   ]
  },
  {
   "cell_type": "code",
   "execution_count": 8,
   "metadata": {},
   "outputs": [
    {
     "data": {
      "text/html": [
       "<div>\n",
       "<style scoped>\n",
       "    .dataframe tbody tr th:only-of-type {\n",
       "        vertical-align: middle;\n",
       "    }\n",
       "\n",
       "    .dataframe tbody tr th {\n",
       "        vertical-align: top;\n",
       "    }\n",
       "\n",
       "    .dataframe thead th {\n",
       "        text-align: right;\n",
       "    }\n",
       "</style>\n",
       "<table border=\"1\" class=\"dataframe\">\n",
       "  <thead>\n",
       "    <tr style=\"text-align: right;\">\n",
       "      <th></th>\n",
       "      <th>Site_ID</th>\n",
       "      <th>Latitude</th>\n",
       "      <th>Longitude</th>\n",
       "      <th>MAT</th>\n",
       "      <th>MAP</th>\n",
       "      <th>Annual_coverage</th>\n",
       "      <th>Soil_BD</th>\n",
       "      <th>Rs_annual</th>\n",
       "    </tr>\n",
       "  </thead>\n",
       "  <tbody>\n",
       "    <tr>\n",
       "      <th>0</th>\n",
       "      <td>AU-HOS</td>\n",
       "      <td>-12.485</td>\n",
       "      <td>130.940</td>\n",
       "      <td>31.5</td>\n",
       "      <td>1700.0</td>\n",
       "      <td>1.0</td>\n",
       "      <td>1.41</td>\n",
       "      <td>1430.0</td>\n",
       "    </tr>\n",
       "    <tr>\n",
       "      <th>1</th>\n",
       "      <td>AU-RMK-ICBURN</td>\n",
       "      <td>-34.010</td>\n",
       "      <td>140.983</td>\n",
       "      <td>17.5</td>\n",
       "      <td>242.0</td>\n",
       "      <td>1.0</td>\n",
       "      <td>1.60</td>\n",
       "      <td>337.0</td>\n",
       "    </tr>\n",
       "    <tr>\n",
       "      <th>2</th>\n",
       "      <td>AU-RMK-ICCK</td>\n",
       "      <td>-34.000</td>\n",
       "      <td>140.966</td>\n",
       "      <td>17.5</td>\n",
       "      <td>242.0</td>\n",
       "      <td>1.0</td>\n",
       "      <td>1.60</td>\n",
       "      <td>375.0</td>\n",
       "    </tr>\n",
       "    <tr>\n",
       "      <th>3</th>\n",
       "      <td>AU-RMK-UCBURN</td>\n",
       "      <td>-34.010</td>\n",
       "      <td>140.983</td>\n",
       "      <td>17.5</td>\n",
       "      <td>242.0</td>\n",
       "      <td>1.0</td>\n",
       "      <td>1.60</td>\n",
       "      <td>571.0</td>\n",
       "    </tr>\n",
       "    <tr>\n",
       "      <th>4</th>\n",
       "      <td>AU-RMK-UCCK</td>\n",
       "      <td>-34.000</td>\n",
       "      <td>140.966</td>\n",
       "      <td>17.5</td>\n",
       "      <td>242.0</td>\n",
       "      <td>1.0</td>\n",
       "      <td>1.60</td>\n",
       "      <td>598.0</td>\n",
       "    </tr>\n",
       "  </tbody>\n",
       "</table>\n",
       "</div>"
      ],
      "text/plain": [
       "         Site_ID  Latitude  Longitude   MAT     MAP  Annual_coverage  Soil_BD  \\\n",
       "0         AU-HOS   -12.485    130.940  31.5  1700.0              1.0     1.41   \n",
       "1  AU-RMK-ICBURN   -34.010    140.983  17.5   242.0              1.0     1.60   \n",
       "2    AU-RMK-ICCK   -34.000    140.966  17.5   242.0              1.0     1.60   \n",
       "3  AU-RMK-UCBURN   -34.010    140.983  17.5   242.0              1.0     1.60   \n",
       "4    AU-RMK-UCCK   -34.000    140.966  17.5   242.0              1.0     1.60   \n",
       "\n",
       "   Rs_annual  \n",
       "0     1430.0  \n",
       "1      337.0  \n",
       "2      375.0  \n",
       "3      571.0  \n",
       "4      598.0  "
      ]
     },
     "execution_count": 8,
     "metadata": {},
     "output_type": "execute_result"
    }
   ],
   "source": [
    "df = pd.read_csv(f_data)\n",
    "df.head()"
   ]
  },
  {
   "cell_type": "code",
   "execution_count": 9,
   "metadata": {},
   "outputs": [],
   "source": [
    "# Predictors\n",
    "predictors = [\n",
    "    \"Latitude\", \"Longitude\", \"MAT\", \"MAP\", \"Annual_coverage\", \"Soil_BD\"\n",
    "    # \"Study_temp\", \"Study_precip\", \"Chamber_area\", \"Time_of_day\", \"LAI\",\n",
    "    # \"Age_disturbance\", \"Elevation\", \"Soil_BD\", \"Soil_CN\", \n",
    "    # \"Soil_sand\", \"Soil_silt\", \"Soil_clay\",  \"C_AG\", \"C_BG\"\n",
    "]\n",
    "\n",
    "# Predictands\n",
    "predictands = [\n",
    "    \"Rs_annual\"\n",
    "    # , \"Ra_annual\", \"Rh_annual\", \"GPP\"\n",
    "]\n"
   ]
  },
  {
   "cell_type": "code",
   "execution_count": 10,
   "metadata": {},
   "outputs": [],
   "source": [
    "x, y = df[predictors].values, df[predictands].values\n"
   ]
  },
  {
   "cell_type": "code",
   "execution_count": 12,
   "metadata": {},
   "outputs": [
    {
     "data": {
      "text/plain": [
       "((823, 6), (823, 1))"
      ]
     },
     "execution_count": 12,
     "metadata": {},
     "output_type": "execute_result"
    }
   ],
   "source": [
    "x.shape, y.shape"
   ]
  },
  {
   "cell_type": "markdown",
   "metadata": {},
   "source": [
    "# Configurations"
   ]
  },
  {
   "cell_type": "code",
   "execution_count": 5,
   "metadata": {},
   "outputs": [],
   "source": [
    "Ns_train = 600\n",
    "hidden_activation = 'sigmoid'\n",
    "final_activation = 'leaky_relu'\n",
    "seed = 1024\n",
    "seed_predict = 3636\n",
    "seed_dl = 10\n",
    "seed_model = 100\n",
    "seed_shuffle = 1234\n",
    "training_verbose = 1\n"
   ]
  },
  {
   "cell_type": "code",
   "execution_count": 42,
   "metadata": {},
   "outputs": [],
   "source": [
    "# Data configuration\n",
    "data_params = {\n",
    "    \"xscaler_type\": \"standard\",\n",
    "    \"yscaler_type\": \"standard\",\n",
    "    # \"xscaler_type\": \"\",\n",
    "    # \"yscaler_type\": \"\",\n",
    "}\n",
    "\n",
    "# Sensitivity analysis configuration\n",
    "sensitivity_params = {\n",
    "    \"method\": \"pc\", \"metric\": \"corr\",\n",
    "    \"sst\": True, \"ntest\": 100, \"alpha\": 0.05, \"k\": 3,\n",
    "    \"seed_shuffle\": seed_shuffle,\n",
    "}\n",
    "\n",
    "# Mapping parameters for each test below\n",
    "map_configs = {\n",
    "    \"model_type\": MLP,\n",
    "    'n_model': 10,\n",
    "    'ensemble_type': 'ens_random',\n",
    "    'model_hp_choices': {\n",
    "        \"depth\": [1,3,5,6],\n",
    "        \"width_size\": [3,6,10]\n",
    "    },\n",
    "    'model_hp_fixed': {\n",
    "        \"hidden_activation\": hidden_activation,\n",
    "        \"final_activation\": final_activation,\n",
    "        \"model_seed\": seed_model\n",
    "    },\n",
    "    'optax_hp_choices': {\n",
    "        'learning_rate': [0.01, 0.005, 0.003],\n",
    "    },\n",
    "    'optax_hp_fixed': {\n",
    "        'nsteps': 100,\n",
    "        'optimizer_type': 'adam',\n",
    "    },\n",
    "    'dl_hp_choices': {\n",
    "        'batch_size': [8, 16]\n",
    "    },\n",
    "    'dl_hp_fixed': {\n",
    "        'dl_seed': seed_dl,\n",
    "        'num_train_sample': Ns_train\n",
    "    },\n",
    "    'ens_seed': seed,\n",
    "    'training_parallel': True,\n",
    "    'parallel_config': {\n",
    "        'n_jobs': 5, \n",
    "        'backend': 'loky',\n",
    "        'verbose': 0\n",
    "    },\n",
    "    'device': None,\n",
    "}"
   ]
  },
  {
   "cell_type": "markdown",
   "metadata": {},
   "source": [
    "# Exploratory data analysis"
   ]
  },
  {
   "cell_type": "code",
   "execution_count": 39,
   "metadata": {},
   "outputs": [],
   "source": [
    "data = Data(x, y, **data_params)\n",
    "data.calculate_sensitivity(**sensitivity_params)\n"
   ]
  },
  {
   "cell_type": "code",
   "execution_count": 40,
   "metadata": {},
   "outputs": [
    {
     "data": {
      "text/plain": [
       "array([[False],\n",
       "       [False],\n",
       "       [ True],\n",
       "       [ True],\n",
       "       [False],\n",
       "       [False]])"
      ]
     },
     "execution_count": 40,
     "metadata": {},
     "output_type": "execute_result"
    }
   ],
   "source": [
    "data.sensitivity_mask"
   ]
  },
  {
   "cell_type": "markdown",
   "metadata": {},
   "source": [
    "# Train the inverse mapping"
   ]
  },
  {
   "cell_type": "code",
   "execution_count": 43,
   "metadata": {},
   "outputs": [
    {
     "name": "stdout",
     "output_type": "stream",
     "text": [
      "\n",
      " Performing ensemble training in parallel with 10 model configurations...\n",
      "\n"
     ]
    },
    {
     "name": "stderr",
     "output_type": "stream",
     "text": [
      "100%|██████████| 100/100 [00:51<00:00,  1.95it/s]\n",
      "100%|██████████| 100/100 [00:55<00:00,  1.82it/s]\n",
      "100%|██████████| 100/100 [00:55<00:00,  1.81it/s]\n",
      "100%|██████████| 100/100 [01:02<00:00,  1.59it/s]\n",
      "100%|██████████| 100/100 [01:04<00:00,  1.54it/s]\n",
      "100%|██████████| 100/100 [00:49<00:00,  2.03it/s]\n",
      "100%|██████████| 100/100 [00:53<00:00,  1.88it/s]\n",
      "100%|██████████| 100/100 [00:57<00:00,  1.75it/s]\n",
      "100%|██████████| 100/100 [00:52<00:00,  1.92it/s]\n",
      "100%|██████████| 100/100 [01:00<00:00,  1.67it/s]\n",
      "  0%|          | 0/100 [00:00<?, ?it/s]"
     ]
    },
    {
     "name": "stdout",
     "output_type": "stream",
     "text": [
      "Training completes.\n",
      "\n",
      " Performing ensemble training in parallel with 10 model configurations...\n",
      "\n"
     ]
    },
    {
     "name": "stderr",
     "output_type": "stream",
     "text": [
      "100%|██████████| 100/100 [00:48<00:00,  2.04it/s]\n",
      "100%|██████████| 100/100 [00:52<00:00,  1.90it/s]\n",
      "100%|██████████| 100/100 [00:56<00:00,  1.75it/s]\n",
      "100%|██████████| 100/100 [00:59<00:00,  1.69it/s]\n",
      "100%|██████████| 100/100 [01:00<00:00,  1.66it/s]\n",
      "100%|██████████| 100/100 [00:51<00:00,  1.93it/s]\n",
      "100%|██████████| 100/100 [00:51<00:00,  1.93it/s]\n",
      "100%|██████████| 100/100 [00:50<00:00,  1.97it/s]\n",
      "100%|██████████| 100/100 [00:55<00:00,  1.79it/s]\n",
      "100%|██████████| 100/100 [00:54<00:00,  1.82it/s]\n",
      "  0%|          | 0/100 [00:00<?, ?it/s]"
     ]
    },
    {
     "name": "stdout",
     "output_type": "stream",
     "text": [
      "Training completes.\n",
      "\n",
      " Performing ensemble training in parallel with 10 model configurations...\n",
      "\n"
     ]
    },
    {
     "name": "stderr",
     "output_type": "stream",
     "text": [
      "100%|██████████| 100/100 [00:48<00:00,  2.05it/s]\n",
      "100%|██████████| 100/100 [00:48<00:00,  2.05it/s]\n",
      "100%|██████████| 100/100 [00:53<00:00,  1.88it/s]\n",
      "100%|██████████| 100/100 [01:02<00:00,  1.60it/s]\n",
      "100%|██████████| 100/100 [01:03<00:00,  1.58it/s]\n",
      "100%|██████████| 100/100 [00:47<00:00,  2.09it/s]\n",
      "100%|██████████| 100/100 [00:51<00:00,  1.95it/s]\n",
      "100%|██████████| 100/100 [00:51<00:00,  1.93it/s]\n",
      "100%|██████████| 100/100 [00:53<00:00,  1.86it/s]\n",
      " 99%|█████████▉| 99/100 [00:57<00:00,  1.76it/s]"
     ]
    },
    {
     "name": "stdout",
     "output_type": "stream",
     "text": [
      "Training completes.\n"
     ]
    },
    {
     "name": "stderr",
     "output_type": "stream",
     "text": [
      "100%|██████████| 100/100 [00:57<00:00,  1.72it/s]\n"
     ]
    }
   ],
   "source": [
    "# Initialize three diffferent KIMs\n",
    "kim1 = KIM(data, map_configs, map_option='many2many')\n",
    "kim2 = KIM(data, map_configs, mask_option=\"sensitivity\", map_option='many2one')\n",
    "kim3 = KIM(data, map_configs, mask_option=\"cond_sensitivity\", map_option='many2one')\n",
    "\n",
    "# Train the mappings\n",
    "kim1.train()\n",
    "kim2.train()\n",
    "kim3.train()\n"
   ]
  },
  {
   "cell_type": "code",
   "execution_count": 66,
   "metadata": {},
   "outputs": [
    {
     "data": {
      "text/plain": [
       "Array([1.3408536, 1.3440315, 1.3477818, 1.3521355, 1.356592 , 1.3608091,\n",
       "       1.3648275, 1.368861 , 1.3728536, 1.3765261, 1.3797904, 1.3826338,\n",
       "       1.3849363, 1.386616 , 1.3877108, 1.3880396, 1.3884785, 1.389326 ,\n",
       "       1.3905051, 1.3920324, 1.3938538, 1.3958851, 1.3981603, 1.4005944,\n",
       "       1.4030664, 1.4057751, 1.4084688, 1.4108762, 1.4137963, 1.4164336,\n",
       "       1.4190885, 1.421689 , 1.4242334, 1.4267199, 1.429139 , 1.4314883,\n",
       "       1.4337643, 1.4359657, 1.4380914, 1.4401406, 1.4421135, 1.4440106,\n",
       "       1.4458326, 1.4475803, 1.449255 , 1.4508581, 1.452391 , 1.4538561,\n",
       "       1.455254 , 1.4565872, 1.4578574, 1.4590665, 1.4602165, 1.4613092,\n",
       "       1.4623463, 1.4633301, 1.4642622, 1.4651449, 1.4659795, 1.466768 ,\n",
       "       1.4675125, 1.468214 , 1.4688748, 1.4694966, 1.470081 , 1.4706291,\n",
       "       1.4711428, 1.367012 , 1.3615686, 1.3609289, 1.3623009, 1.3638952,\n",
       "       1.3650914, 1.3661805, 1.3681632, 1.3712499, 1.370545 , 1.3783376,\n",
       "       1.3685814, 1.3704404, 1.3712581, 1.3687035, 1.3743248, 1.37013  ,\n",
       "       1.3743471, 1.3714226, 1.3750175, 1.3761499, 1.3769763, 1.3737782,\n",
       "       1.3721774, 1.3717748, 1.3716917, 1.3717097, 1.3717251, 1.3725847,\n",
       "       1.3697784, 1.3704071, 1.375659 , 1.3768977], dtype=float32)"
      ]
     },
     "execution_count": 66,
     "metadata": {},
     "output_type": "execute_result"
    }
   ],
   "source": [
    "kim3.maps[-1].loss_test_ens[4]"
   ]
  },
  {
   "cell_type": "code",
   "execution_count": null,
   "metadata": {},
   "outputs": [],
   "source": []
  }
 ],
 "metadata": {
  "kernelspec": {
   "display_name": "kim",
   "language": "python",
   "name": "python3"
  },
  "language_info": {
   "codemirror_mode": {
    "name": "ipython",
    "version": 3
   },
   "file_extension": ".py",
   "mimetype": "text/x-python",
   "name": "python",
   "nbconvert_exporter": "python",
   "pygments_lexer": "ipython3",
   "version": "3.12.4"
  }
 },
 "nbformat": 4,
 "nbformat_minor": 2
}
