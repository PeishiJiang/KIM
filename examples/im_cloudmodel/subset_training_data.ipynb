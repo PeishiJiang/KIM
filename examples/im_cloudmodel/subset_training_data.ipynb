{
 "cells": [
  {
   "cell_type": "markdown",
   "metadata": {},
   "source": [
    "This notebook is used for subsetting the input datasets to get ready for different training scenarios."
   ]
  },
  {
   "cell_type": "code",
   "execution_count": 1,
   "metadata": {},
   "outputs": [],
   "source": [
    "import itertools\n",
    "from pathlib import Path\n",
    "from functools import reduce\n",
    "from copy import deepcopy\n",
    "import pandas as pd\n",
    "import numpy as np\n"
   ]
  },
  {
   "cell_type": "code",
   "execution_count": 2,
   "metadata": {},
   "outputs": [],
   "source": [
    "import logging\n",
    "logging.basicConfig(level=logging.INFO, format='%(asctime)s - %(levelname)s: %(message)s', datefmt='%m/%d/%Y %H:%M:%S')"
   ]
  },
  {
   "cell_type": "markdown",
   "metadata": {},
   "source": [
    "# Read the data"
   ]
  },
  {
   "cell_type": "code",
   "execution_count": 3,
   "metadata": {},
   "outputs": [],
   "source": [
    "# Read the raw input data\n",
    "dir_data = Path(\"/qfs/people/jian449/KIM/examples/im_cloudmodel/data\")\n",
    "f_state = dir_data / \"Input_512.csv\"\n",
    "df_state = pd.read_csv(f_state)\n",
    "\n"
   ]
  },
  {
   "cell_type": "code",
   "execution_count": 10,
   "metadata": {},
   "outputs": [],
   "source": [
    "# Get the features of the keys\n",
    "keys = list(df_state.keys())\n",
    "locs = [k.split('_')[0] for k in keys]\n",
    "times = [k.split('_')[1] for k in keys]\n",
    "varns = [k.split('_')[2] for k in keys]\n",
    "nkeys = len(keys)\n"
   ]
  },
  {
   "cell_type": "markdown",
   "metadata": {},
   "source": [
    "# Subsetting"
   ]
  },
  {
   "cell_type": "code",
   "execution_count": 11,
   "metadata": {},
   "outputs": [],
   "source": [
    "# Locations of the points\n",
    "middle_pts = ['s1', 's10', 's19']\n",
    "cold_pts = ['s2', 's3', 's9', 's11', 's12', 's18', 's20', 's21', 's27']\n",
    "warm_pts = ['s5', 's6', 's7', 's14', 's15', 's16', 's23', 's24', 's25']"
   ]
  },
  {
   "cell_type": "code",
   "execution_count": 12,
   "metadata": {},
   "outputs": [],
   "source": [
    "# Multiple criteria\n",
    "middle_pts_r = [True, False]\n",
    "all_ss_varns = [True, False]\n",
    "wstd = [True, False]\n",
    "wall_types = ['cold', 'warm', 'both']\n",
    "temperature = [True, False]\n",
    "combinations = itertools.product(middle_pts_r, all_ss_varns, wstd, wall_types, temperature)"
   ]
  },
  {
   "cell_type": "code",
   "execution_count": 13,
   "metadata": {},
   "outputs": [
    {
     "name": "stderr",
     "output_type": "stream",
     "text": [
      "11/13/2024 09:40:17 - INFO: Combination: mp ss wstd cold t; total number of keys: 972\n",
      "11/13/2024 09:40:18 - INFO: Combination: mp ss wstd cold not; total number of keys: 756\n",
      "11/13/2024 09:40:19 - INFO: Combination: mp ss wstd warm t; total number of keys: 972\n",
      "11/13/2024 09:40:19 - INFO: Combination: mp ss wstd warm not; total number of keys: 756\n",
      "11/13/2024 09:40:20 - INFO: Combination: mp ss wstd both t; total number of keys: 1458\n",
      "11/13/2024 09:40:21 - INFO: Combination: mp ss wstd both not; total number of keys: 1134\n",
      "11/13/2024 09:40:22 - INFO: Combination: mp ss nowstd cold t; total number of keys: 864\n",
      "11/13/2024 09:40:23 - INFO: Combination: mp ss nowstd cold not; total number of keys: 648\n",
      "11/13/2024 09:40:24 - INFO: Combination: mp ss nowstd warm t; total number of keys: 864\n",
      "11/13/2024 09:40:24 - INFO: Combination: mp ss nowstd warm not; total number of keys: 648\n",
      "11/13/2024 09:40:25 - INFO: Combination: mp ss nowstd both t; total number of keys: 1296\n",
      "11/13/2024 09:40:26 - INFO: Combination: mp ss nowstd both not; total number of keys: 972\n",
      "11/13/2024 09:40:27 - INFO: Combination: mp noss wstd cold t; total number of keys: 756\n",
      "11/13/2024 09:40:28 - INFO: Combination: mp noss wstd cold not; total number of keys: 540\n",
      "11/13/2024 09:40:28 - INFO: Combination: mp noss wstd warm t; total number of keys: 756\n",
      "11/13/2024 09:40:29 - INFO: Combination: mp noss wstd warm not; total number of keys: 540\n",
      "11/13/2024 09:40:29 - INFO: Combination: mp noss wstd both t; total number of keys: 1134\n",
      "11/13/2024 09:40:30 - INFO: Combination: mp noss wstd both not; total number of keys: 810\n",
      "11/13/2024 09:40:31 - INFO: Combination: mp noss nowstd cold t; total number of keys: 648\n",
      "11/13/2024 09:40:32 - INFO: Combination: mp noss nowstd cold not; total number of keys: 432\n",
      "11/13/2024 09:40:32 - INFO: Combination: mp noss nowstd warm t; total number of keys: 648\n",
      "11/13/2024 09:40:32 - INFO: Combination: mp noss nowstd warm not; total number of keys: 432\n",
      "11/13/2024 09:40:33 - INFO: Combination: mp noss nowstd both t; total number of keys: 972\n",
      "11/13/2024 09:40:34 - INFO: Combination: mp noss nowstd both not; total number of keys: 648\n",
      "11/13/2024 09:40:34 - INFO: Combination: nompR ss wstd cold t; total number of keys: 810\n",
      "11/13/2024 09:40:35 - INFO: Combination: nompR ss wstd cold not; total number of keys: 630\n",
      "11/13/2024 09:40:36 - INFO: Combination: nompR ss wstd warm t; total number of keys: 810\n",
      "11/13/2024 09:40:36 - INFO: Combination: nompR ss wstd warm not; total number of keys: 630\n",
      "11/13/2024 09:40:37 - INFO: Combination: nompR ss wstd both t; total number of keys: 1296\n",
      "11/13/2024 09:40:38 - INFO: Combination: nompR ss wstd both not; total number of keys: 1008\n",
      "11/13/2024 09:40:39 - INFO: Combination: nompR ss nowstd cold t; total number of keys: 720\n",
      "11/13/2024 09:40:39 - INFO: Combination: nompR ss nowstd cold not; total number of keys: 540\n",
      "11/13/2024 09:40:40 - INFO: Combination: nompR ss nowstd warm t; total number of keys: 720\n",
      "11/13/2024 09:40:41 - INFO: Combination: nompR ss nowstd warm not; total number of keys: 540\n",
      "11/13/2024 09:40:41 - INFO: Combination: nompR ss nowstd both t; total number of keys: 1152\n",
      "11/13/2024 09:40:42 - INFO: Combination: nompR ss nowstd both not; total number of keys: 864\n",
      "11/13/2024 09:40:43 - INFO: Combination: nompR noss wstd cold t; total number of keys: 630\n",
      "11/13/2024 09:40:43 - INFO: Combination: nompR noss wstd cold not; total number of keys: 450\n",
      "11/13/2024 09:40:44 - INFO: Combination: nompR noss wstd warm t; total number of keys: 630\n",
      "11/13/2024 09:40:44 - INFO: Combination: nompR noss wstd warm not; total number of keys: 450\n",
      "11/13/2024 09:40:45 - INFO: Combination: nompR noss wstd both t; total number of keys: 1008\n",
      "11/13/2024 09:40:46 - INFO: Combination: nompR noss wstd both not; total number of keys: 720\n",
      "11/13/2024 09:40:46 - INFO: Combination: nompR noss nowstd cold t; total number of keys: 540\n",
      "11/13/2024 09:40:47 - INFO: Combination: nompR noss nowstd cold not; total number of keys: 360\n",
      "11/13/2024 09:40:47 - INFO: Combination: nompR noss nowstd warm t; total number of keys: 540\n",
      "11/13/2024 09:40:47 - INFO: Combination: nompR noss nowstd warm not; total number of keys: 360\n",
      "11/13/2024 09:40:48 - INFO: Combination: nompR noss nowstd both t; total number of keys: 864\n",
      "11/13/2024 09:40:49 - INFO: Combination: nompR noss nowstd both not; total number of keys: 576\n"
     ]
    }
   ],
   "source": [
    "for mp, ss, w, wall, t in combinations:\n",
    "    keys_case = deepcopy(keys)\n",
    "\n",
    "    # If keeping all variables at middle points\n",
    "    label1 = 'mp'\n",
    "    removed_set1 = [False] * nkeys\n",
    "    if not mp:\n",
    "        label1 = 'nompR'\n",
    "        # c1 = [l in middle_pts for l in locs]\n",
    "        # c2 = [v.startswith('R') for v in varns]\n",
    "        # removed_set1 = [a and b for a, b in zip(c1, c2)]\n",
    "        removed_set1 = [l in middle_pts for l in locs]\n",
    "    removed_set1 = np.array(removed_set1)\n",
    "\n",
    "    # If keeping all SS variables\n",
    "    label2 = 'ss'\n",
    "    removed_set2 = [False] * nkeys\n",
    "    if not ss:\n",
    "        label2 = 'noss'\n",
    "        removed_set2 = [v.startswith('SS') for v in varns]\n",
    "    removed_set2 = np.array(removed_set2)\n",
    "\n",
    "    # If keeping wstd\n",
    "    label3 = 'wstd'\n",
    "    removed_set3 = [False] * nkeys\n",
    "    if not w:\n",
    "        label3 = 'nowstd'\n",
    "        removed_set3 = [v == 'Wstd' for v in varns]\n",
    "    removed_set3 = np.array(removed_set3)\n",
    "\n",
    "    # What wall to be used:\n",
    "    label4 = 'both'\n",
    "    removed_set4 = [False] * nkeys\n",
    "    if wall == 'cold':\n",
    "        label4 = 'cold'\n",
    "        removed_set4 = [l in warm_pts for l in locs]\n",
    "    elif wall == 'warm':\n",
    "        label4 = 'warm'\n",
    "        removed_set4 = [l in cold_pts for l in locs]\n",
    "    removed_set4 = np.array(removed_set4)\n",
    "\n",
    "    # If using temperature data\n",
    "    label5 = 't'\n",
    "    removed_set5 = [False] * nkeys\n",
    "    if not t:\n",
    "        label5 = 'not'\n",
    "        removed_set5 = [v.startswith('T') for v in varns]\n",
    "    removed_set5 = np.array(removed_set5)\n",
    "    \n",
    "    # Combine all removed sets\n",
    "    removed_set = reduce(np.logical_or, [removed_set1, removed_set2, removed_set3, removed_set4, removed_set5])\n",
    "\n",
    "    # Subset the data\n",
    "    df_state_subset = df_state.iloc[:,~removed_set].copy()\n",
    "    logging.info(f'Combination: {label1} {label2} {label3} {label4} {label5}; total number of keys: {df_state_subset.shape[1]}')\n",
    "    f_state_subset = dir_data / f'Input-{label1}-{label2}-{label3}-{label4}-{label5}.csv'\n",
    "    df_state_subset.to_csv(f_state_subset)\n"
   ]
  },
  {
   "cell_type": "code",
   "execution_count": 58,
   "metadata": {},
   "outputs": [
    {
     "data": {
      "text/plain": [
       "array([ True, False, False, ..., False, False, False])"
      ]
     },
     "execution_count": 58,
     "metadata": {},
     "output_type": "execute_result"
    }
   ],
   "source": [
    "removed_set"
   ]
  },
  {
   "cell_type": "code",
   "execution_count": null,
   "metadata": {},
   "outputs": [],
   "source": []
  }
 ],
 "metadata": {
  "kernelspec": {
   "display_name": "Python 3",
   "language": "python",
   "name": "python3"
  },
  "language_info": {
   "codemirror_mode": {
    "name": "ipython",
    "version": 3
   },
   "file_extension": ".py",
   "mimetype": "text/x-python",
   "name": "python",
   "nbconvert_exporter": "python",
   "pygments_lexer": "ipython3",
   "version": "3.12.6"
  }
 },
 "nbformat": 4,
 "nbformat_minor": 2
}
