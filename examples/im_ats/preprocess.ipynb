{
 "cells": [
  {
   "cell_type": "code",
   "execution_count": 2,
   "id": "56675286-3937-4f09-a9ea-937fe2980f19",
   "metadata": {
    "tags": []
   },
   "outputs": [],
   "source": [
    "import os\n",
    "from pathlib import Path\n",
    "import pandas as pd\n",
    "import numpy as np\n",
    "import gc\n",
    "from datetime import datetime as dt\n",
    "\n",
    "import seaborn as sns\n",
    "import matplotlib.pyplot as plt\n",
    "import matplotlib.gridspec as gridspec\n",
    "\n",
    "from tqdm import tqdm\n",
    "\n",
    "%matplotlib inline\n",
    "\n",
    "%load_ext autoreload\n",
    "%autoreload 2\n"
   ]
  },
  {
   "cell_type": "code",
   "execution_count": 3,
   "id": "94d8a49a-35d5-4487-aba0-1ac7a9944389",
   "metadata": {
    "tags": []
   },
   "outputs": [],
   "source": [
    "# Plotting parameters\n",
    "# rc('text', usetex=False)\n",
    "small_size = 15\n",
    "medium_size = 25\n",
    "bigger_size = 30\n",
    "plt.rc('font', size=small_size)          # controls default text sizes\n",
    "plt.rc('axes', titlesize=small_size)    # fontsize of the axes title\n",
    "plt.rc('axes', labelsize=small_size)    # fontsize of the x and y labels\n",
    "plt.rc('xtick', labelsize=small_size)    # fontsize of the tick labels\n",
    "plt.rc('ytick', labelsize=small_size)    # fontsize of the tick labels\n",
    "plt.rc('legend', fontsize=small_size)    # legend fontsize\n",
    "plt.rc('figure', titlesize=small_size)  # fontsize of the figure title\n",
    "plt.rc('text', usetex = False)\n"
   ]
  },
  {
   "cell_type": "markdown",
   "id": "6d920bf6-6b11-4113-8c57-e365156bc300",
   "metadata": {},
   "source": [
    "# Files/folders/parameters"
   ]
  },
  {
   "cell_type": "code",
   "execution_count": 4,
   "id": "b9ac1c24-0624-4c01-bc13-7a95c1de5163",
   "metadata": {
    "tags": []
   },
   "outputs": [],
   "source": [
    "# Simulation and observation data folder\n",
    "f_ats_data  = Path('./Jiang2023/data/ensemble_396')\n",
    "f_ats_precip = Path('./Jiang2023/data/CC_prcp-2015-2019.csv')\n",
    "f_data = Path('./data')\n",
    "\n",
    "# ATS parameter data\n",
    "f_para    = os.path.join(f_ats_data, 'ensemble_parameter_updated.csv')\n",
    "\n",
    "# ATS  simulation data\n",
    "f_q   = os.path.join(f_ats_data, 'ensemble_q_all_396.csv') # streamflow\n"
   ]
  },
  {
   "cell_type": "markdown",
   "id": "6fa65a41-346b-48d8-a3bf-b0cf6d9184ee",
   "metadata": {},
   "source": [
    "# Load ATS data/parameters"
   ]
  },
  {
   "cell_type": "code",
   "execution_count": 5,
   "id": "7ecb827d-6ad0-4bfa-bdd3-104af1cbb866",
   "metadata": {
    "tags": []
   },
   "outputs": [
    {
     "data": {
      "text/html": [
       "<div>\n",
       "<style scoped>\n",
       "    .dataframe tbody tr th:only-of-type {\n",
       "        vertical-align: middle;\n",
       "    }\n",
       "\n",
       "    .dataframe tbody tr th {\n",
       "        vertical-align: top;\n",
       "    }\n",
       "\n",
       "    .dataframe thead th {\n",
       "        text-align: right;\n",
       "    }\n",
       "</style>\n",
       "<table border=\"1\" class=\"dataframe\">\n",
       "  <thead>\n",
       "    <tr style=\"text-align: right;\">\n",
       "      <th></th>\n",
       "      <th>priestley_taylor_alpha-snow</th>\n",
       "      <th>priestley_taylor_alpha-transpiration</th>\n",
       "      <th>snowmelt_rate</th>\n",
       "      <th>snowmelt_degree_diff</th>\n",
       "      <th>perm_s3</th>\n",
       "      <th>perm_s4</th>\n",
       "      <th>perm_g1</th>\n",
       "      <th>perm_g4</th>\n",
       "    </tr>\n",
       "    <tr>\n",
       "      <th>realization_id</th>\n",
       "      <th></th>\n",
       "      <th></th>\n",
       "      <th></th>\n",
       "      <th></th>\n",
       "      <th></th>\n",
       "      <th></th>\n",
       "      <th></th>\n",
       "      <th></th>\n",
       "    </tr>\n",
       "  </thead>\n",
       "  <tbody>\n",
       "    <tr>\n",
       "      <th>1</th>\n",
       "      <td>0.7500</td>\n",
       "      <td>0.7500</td>\n",
       "      <td>3.42500</td>\n",
       "      <td>3.0</td>\n",
       "      <td>-11.709965</td>\n",
       "      <td>-11.324222</td>\n",
       "      <td>-12.500313</td>\n",
       "      <td>-13.00</td>\n",
       "    </tr>\n",
       "    <tr>\n",
       "      <th>2</th>\n",
       "      <td>0.9750</td>\n",
       "      <td>0.5250</td>\n",
       "      <td>2.39750</td>\n",
       "      <td>2.0</td>\n",
       "      <td>-11.209965</td>\n",
       "      <td>-10.824222</td>\n",
       "      <td>-13.000313</td>\n",
       "      <td>-12.50</td>\n",
       "    </tr>\n",
       "    <tr>\n",
       "      <th>3</th>\n",
       "      <td>0.5250</td>\n",
       "      <td>0.9750</td>\n",
       "      <td>4.45250</td>\n",
       "      <td>4.0</td>\n",
       "      <td>-12.209965</td>\n",
       "      <td>-11.824222</td>\n",
       "      <td>-12.000313</td>\n",
       "      <td>-13.50</td>\n",
       "    </tr>\n",
       "    <tr>\n",
       "      <th>4</th>\n",
       "      <td>0.6375</td>\n",
       "      <td>0.6375</td>\n",
       "      <td>3.93875</td>\n",
       "      <td>4.5</td>\n",
       "      <td>-11.959965</td>\n",
       "      <td>-12.074222</td>\n",
       "      <td>-12.750313</td>\n",
       "      <td>-12.25</td>\n",
       "    </tr>\n",
       "    <tr>\n",
       "      <th>5</th>\n",
       "      <td>1.0875</td>\n",
       "      <td>1.0875</td>\n",
       "      <td>1.88375</td>\n",
       "      <td>2.5</td>\n",
       "      <td>-10.959965</td>\n",
       "      <td>-11.074222</td>\n",
       "      <td>-11.750313</td>\n",
       "      <td>-13.25</td>\n",
       "    </tr>\n",
       "  </tbody>\n",
       "</table>\n",
       "</div>"
      ],
      "text/plain": [
       "                priestley_taylor_alpha-snow  \\\n",
       "realization_id                                \n",
       "1                                    0.7500   \n",
       "2                                    0.9750   \n",
       "3                                    0.5250   \n",
       "4                                    0.6375   \n",
       "5                                    1.0875   \n",
       "\n",
       "                priestley_taylor_alpha-transpiration  snowmelt_rate  \\\n",
       "realization_id                                                        \n",
       "1                                             0.7500        3.42500   \n",
       "2                                             0.5250        2.39750   \n",
       "3                                             0.9750        4.45250   \n",
       "4                                             0.6375        3.93875   \n",
       "5                                             1.0875        1.88375   \n",
       "\n",
       "                snowmelt_degree_diff    perm_s3    perm_s4    perm_g1  perm_g4  \n",
       "realization_id                                                                  \n",
       "1                                3.0 -11.709965 -11.324222 -12.500313   -13.00  \n",
       "2                                2.0 -11.209965 -10.824222 -13.000313   -12.50  \n",
       "3                                4.0 -12.209965 -11.824222 -12.000313   -13.50  \n",
       "4                                4.5 -11.959965 -12.074222 -12.750313   -12.25  \n",
       "5                                2.5 -10.959965 -11.074222 -11.750313   -13.25  "
      ]
     },
     "execution_count": 5,
     "metadata": {},
     "output_type": "execute_result"
    }
   ],
   "source": [
    "# Load the parameter\n",
    "df_para  = pd.read_csv(f_para, index_col = 0)\n",
    "para_set = list(df_para.keys())\n",
    "df_para.head()\n"
   ]
  },
  {
   "cell_type": "code",
   "execution_count": 6,
   "id": "47ef8e2b-1b20-429d-8ca0-81592948a02f",
   "metadata": {
    "tags": []
   },
   "outputs": [
    {
     "data": {
      "text/plain": [
       "(1463, 397)"
      ]
     },
     "execution_count": 6,
     "metadata": {},
     "output_type": "execute_result"
    }
   ],
   "source": [
    "# Load ATS data\n",
    "df_q   = pd.read_csv(f_q, index_col = 0)\n",
    "df_q.shape\n"
   ]
  },
  {
   "cell_type": "code",
   "execution_count": 7,
   "id": "ed17e8fc-4e37-455c-aa48-0473efb79434",
   "metadata": {
    "tags": []
   },
   "outputs": [
    {
     "name": "stderr",
     "output_type": "stream",
     "text": [
      "/global/cfs/cdirs/m1800/peishi/.conda/envs/kim/lib/python3.12/site-packages/pandas/core/internals/blocks.py:393: RuntimeWarning: divide by zero encountered in log10\n",
      "  result = func(self.values, **kwargs)\n"
     ]
    },
    {
     "data": {
      "text/plain": [
       "397"
      ]
     },
     "execution_count": 7,
     "metadata": {},
     "output_type": "execute_result"
    }
   ],
   "source": [
    "# Remove 2016-12-31 which ATS does not simulate\n",
    "if '2016-12-31' in df_q.index:\n",
    "    df_q = df_q.drop('2016-12-31')\n",
    "# Get the logarithm of Q\n",
    "df_logq= np.log10(df_q)\n",
    "\n",
    "# All variables starting from 2015-10-02 to get rid of the initial zeros\n",
    "df_logq = df_logq.iloc[1:]\n",
    "\n",
    "# Number of realizations\n",
    "realz  = list(df_logq.keys())\n",
    "nrealz = len(realz)\n",
    "nrealz\n"
   ]
  },
  {
   "cell_type": "code",
   "execution_count": 8,
   "id": "dbdd098b-616b-4dbe-8f1c-844436c5e9b6",
   "metadata": {
    "tags": []
   },
   "outputs": [
    {
     "name": "stdout",
     "output_type": "stream",
     "text": [
      "[51, 52, 53, 54, 55, 56, 57, 58, 59, 60, 61, 62, 63, 64, 65, 66, 67, 68, 69, 70, 71, 72, 73, 74, 75, 76, 77, 78, 79, 80, 81, 82, 83, 84, 85, 86, 87, 88, 89, 90, 91, 92, 93, 94, 95, 96, 97, 98, 99, 100, 101, 102, 103, 104, 105, 106, 107, 108, 109, 110, 111, 112, 113, 114, 115, 116, 117, 118, 119, 120, 121, 122, 123, 124, 125, 126, 127, 128, 129, 130, 131, 132, 133, 134, 135, 136, 137, 138, 139, 140, 141, 142, 143, 144, 145, 146, 147, 148, 149, 150, 151, 152, 153, 154, 155, 156, 157, 158, 159, 160, 161, 162, 163, 164, 165, 166, 167, 168, 169, 170, 171, 172, 173, 174, 175, 176, 177, 178, 179, 180, 181, 182, 183, 184, 185, 186, 187, 188, 189, 190, 191, 192, 193, 194, 195, 196, 197, 198, 199, 200, 201, 202, 203, 204, 205, 206, 207, 208, 209, 210, 211, 212, 213, 214, 215, 216, 217, 218, 219, 220, 221, 222, 223, 224, 225, 226, 227, 228, 229, 230, 231, 232, 233, 234, 235, 236, 237, 238, 239, 240, 241, 242, 243, 244, 245, 246, 247, 248, 249, 250, 251, 252, 253, 254, 255, 256, 257, 258, 259, 260, 261, 262, 263, 264, 265, 266, 267, 268, 269, 270, 271, 272, 273, 274, 275, 276, 277, 278, 279, 280, 281, 282, 283, 284, 285, 286, 287, 288, 289, 290, 291, 292, 293, 294, 295, 296, 297, 298, 299, 300, 301, 302, 303, 304, 305, 306, 307, 308, 309, 310, 311, 312, 313, 314, 315, 316, 317, 318, 319, 320, 321, 322, 323, 324, 325, 326, 327, 328, 329, 330, 331, 332, 333, 334, 335, 336, 337, 338, 339, 340, 341, 342, 343, 344, 345, 346, 347, 348, 349, 350, 351, 352, 353, 354, 355, 356, 357, 358, 359, 360, 361, 362, 363, 364, 365, 366, 367, 368, 369, 370, 371, 372, 373, 374, 375, 376, 377, 378, 379, 380, 381, 382, 383, 384, 385, 386, 387, 388, 389, 390, 391, 392, 393, 394, 395, 396, 397, 398, 399, 400, 401, 402, 403, 404, 405, 406, 407, 408, 409, 410, 411, 412, 413, 414, 415, 416, 417, 418, 419, 420, 421, 422, 423, 424, 425, 426, 427, 428, 429, 430, 431, 432, 433, 434, 435, 436, 437, 438, 439, 440, 441, 442, 443, 444, 445, 446]\n"
     ]
    }
   ],
   "source": [
    "# Get the ensemble index\n",
    "ens = list(df_logq.dropna(axis='columns').keys())\n",
    "ens_str = [e for e in ens if 'ens' in e]\n",
    "ens_num = [int(e.split('.')[1]) for e in ens if 'ens' in e]\n",
    "print(ens_num)"
   ]
  },
  {
   "cell_type": "code",
   "execution_count": 9,
   "id": "814d3b9b-0062-4517-823e-42b78c8eb6b1",
   "metadata": {
    "tags": []
   },
   "outputs": [],
   "source": [
    "# Get the ensemble\n",
    "ensemble_inputs  = df_para.loc[ens_num,:]\n",
    "ensemble_outputs = df_logq[ens_str].T\n"
   ]
  },
  {
   "cell_type": "code",
   "execution_count": 10,
   "id": "bac6bb2e-d85e-427f-8b7e-e973fd3d236b",
   "metadata": {
    "tags": []
   },
   "outputs": [
    {
     "data": {
      "text/html": [
       "<div>\n",
       "<style scoped>\n",
       "    .dataframe tbody tr th:only-of-type {\n",
       "        vertical-align: middle;\n",
       "    }\n",
       "\n",
       "    .dataframe tbody tr th {\n",
       "        vertical-align: top;\n",
       "    }\n",
       "\n",
       "    .dataframe thead th {\n",
       "        text-align: right;\n",
       "    }\n",
       "</style>\n",
       "<table border=\"1\" class=\"dataframe\">\n",
       "  <thead>\n",
       "    <tr style=\"text-align: right;\">\n",
       "      <th></th>\n",
       "      <th>2015-10-02</th>\n",
       "      <th>2015-10-03</th>\n",
       "      <th>2015-10-04</th>\n",
       "      <th>2015-10-05</th>\n",
       "      <th>2015-10-06</th>\n",
       "      <th>2015-10-07</th>\n",
       "      <th>2015-10-08</th>\n",
       "      <th>2015-10-09</th>\n",
       "      <th>2015-10-10</th>\n",
       "      <th>2015-10-11</th>\n",
       "      <th>...</th>\n",
       "      <th>2019-09-23</th>\n",
       "      <th>2019-09-24</th>\n",
       "      <th>2019-09-25</th>\n",
       "      <th>2019-09-26</th>\n",
       "      <th>2019-09-27</th>\n",
       "      <th>2019-09-28</th>\n",
       "      <th>2019-09-29</th>\n",
       "      <th>2019-09-30</th>\n",
       "      <th>2019-10-01</th>\n",
       "      <th>2019-10-02</th>\n",
       "    </tr>\n",
       "  </thead>\n",
       "  <tbody>\n",
       "    <tr>\n",
       "      <th>ens.51</th>\n",
       "      <td>5.129698</td>\n",
       "      <td>4.626144</td>\n",
       "      <td>4.331208</td>\n",
       "      <td>4.265447</td>\n",
       "      <td>4.578950</td>\n",
       "      <td>4.546641</td>\n",
       "      <td>4.337664</td>\n",
       "      <td>4.259503</td>\n",
       "      <td>4.235582</td>\n",
       "      <td>4.207995</td>\n",
       "      <td>...</td>\n",
       "      <td>3.981300</td>\n",
       "      <td>3.980271</td>\n",
       "      <td>3.992923</td>\n",
       "      <td>4.008735</td>\n",
       "      <td>4.001246</td>\n",
       "      <td>3.987468</td>\n",
       "      <td>3.977982</td>\n",
       "      <td>3.969912</td>\n",
       "      <td>3.957986</td>\n",
       "      <td>3.946545</td>\n",
       "    </tr>\n",
       "    <tr>\n",
       "      <th>ens.52</th>\n",
       "      <td>5.124909</td>\n",
       "      <td>4.561925</td>\n",
       "      <td>4.169992</td>\n",
       "      <td>4.058005</td>\n",
       "      <td>4.274430</td>\n",
       "      <td>4.327589</td>\n",
       "      <td>4.097415</td>\n",
       "      <td>4.017729</td>\n",
       "      <td>3.983354</td>\n",
       "      <td>3.952110</td>\n",
       "      <td>...</td>\n",
       "      <td>3.549707</td>\n",
       "      <td>3.521203</td>\n",
       "      <td>3.478916</td>\n",
       "      <td>3.447924</td>\n",
       "      <td>3.431452</td>\n",
       "      <td>3.429977</td>\n",
       "      <td>3.419128</td>\n",
       "      <td>3.396312</td>\n",
       "      <td>3.374553</td>\n",
       "      <td>3.351322</td>\n",
       "    </tr>\n",
       "    <tr>\n",
       "      <th>ens.53</th>\n",
       "      <td>5.167135</td>\n",
       "      <td>4.852130</td>\n",
       "      <td>4.711002</td>\n",
       "      <td>4.723129</td>\n",
       "      <td>4.903345</td>\n",
       "      <td>4.821576</td>\n",
       "      <td>4.710737</td>\n",
       "      <td>4.682207</td>\n",
       "      <td>4.665111</td>\n",
       "      <td>4.640851</td>\n",
       "      <td>...</td>\n",
       "      <td>4.007494</td>\n",
       "      <td>4.013700</td>\n",
       "      <td>4.033696</td>\n",
       "      <td>4.036611</td>\n",
       "      <td>4.019522</td>\n",
       "      <td>4.004824</td>\n",
       "      <td>3.995179</td>\n",
       "      <td>3.986332</td>\n",
       "      <td>3.973695</td>\n",
       "      <td>3.961471</td>\n",
       "    </tr>\n",
       "    <tr>\n",
       "      <th>ens.54</th>\n",
       "      <td>5.226466</td>\n",
       "      <td>5.032107</td>\n",
       "      <td>4.923423</td>\n",
       "      <td>4.913343</td>\n",
       "      <td>5.002032</td>\n",
       "      <td>4.921044</td>\n",
       "      <td>4.828777</td>\n",
       "      <td>4.788990</td>\n",
       "      <td>4.753907</td>\n",
       "      <td>4.713308</td>\n",
       "      <td>...</td>\n",
       "      <td>4.259889</td>\n",
       "      <td>4.284120</td>\n",
       "      <td>4.294335</td>\n",
       "      <td>4.275020</td>\n",
       "      <td>4.242473</td>\n",
       "      <td>4.225079</td>\n",
       "      <td>4.220711</td>\n",
       "      <td>4.199824</td>\n",
       "      <td>4.180199</td>\n",
       "      <td>4.162824</td>\n",
       "    </tr>\n",
       "    <tr>\n",
       "      <th>ens.55</th>\n",
       "      <td>5.236408</td>\n",
       "      <td>5.094033</td>\n",
       "      <td>5.030661</td>\n",
       "      <td>5.043561</td>\n",
       "      <td>5.130504</td>\n",
       "      <td>5.059649</td>\n",
       "      <td>4.999233</td>\n",
       "      <td>4.985469</td>\n",
       "      <td>4.972059</td>\n",
       "      <td>4.953786</td>\n",
       "      <td>...</td>\n",
       "      <td>4.251468</td>\n",
       "      <td>4.275530</td>\n",
       "      <td>4.278465</td>\n",
       "      <td>4.267014</td>\n",
       "      <td>4.248403</td>\n",
       "      <td>4.241904</td>\n",
       "      <td>4.239907</td>\n",
       "      <td>4.227322</td>\n",
       "      <td>4.216386</td>\n",
       "      <td>4.204373</td>\n",
       "    </tr>\n",
       "  </tbody>\n",
       "</table>\n",
       "<p>5 rows × 1461 columns</p>\n",
       "</div>"
      ],
      "text/plain": [
       "        2015-10-02  2015-10-03  2015-10-04  2015-10-05  2015-10-06  \\\n",
       "ens.51    5.129698    4.626144    4.331208    4.265447    4.578950   \n",
       "ens.52    5.124909    4.561925    4.169992    4.058005    4.274430   \n",
       "ens.53    5.167135    4.852130    4.711002    4.723129    4.903345   \n",
       "ens.54    5.226466    5.032107    4.923423    4.913343    5.002032   \n",
       "ens.55    5.236408    5.094033    5.030661    5.043561    5.130504   \n",
       "\n",
       "        2015-10-07  2015-10-08  2015-10-09  2015-10-10  2015-10-11  ...  \\\n",
       "ens.51    4.546641    4.337664    4.259503    4.235582    4.207995  ...   \n",
       "ens.52    4.327589    4.097415    4.017729    3.983354    3.952110  ...   \n",
       "ens.53    4.821576    4.710737    4.682207    4.665111    4.640851  ...   \n",
       "ens.54    4.921044    4.828777    4.788990    4.753907    4.713308  ...   \n",
       "ens.55    5.059649    4.999233    4.985469    4.972059    4.953786  ...   \n",
       "\n",
       "        2019-09-23  2019-09-24  2019-09-25  2019-09-26  2019-09-27  \\\n",
       "ens.51    3.981300    3.980271    3.992923    4.008735    4.001246   \n",
       "ens.52    3.549707    3.521203    3.478916    3.447924    3.431452   \n",
       "ens.53    4.007494    4.013700    4.033696    4.036611    4.019522   \n",
       "ens.54    4.259889    4.284120    4.294335    4.275020    4.242473   \n",
       "ens.55    4.251468    4.275530    4.278465    4.267014    4.248403   \n",
       "\n",
       "        2019-09-28  2019-09-29  2019-09-30  2019-10-01  2019-10-02  \n",
       "ens.51    3.987468    3.977982    3.969912    3.957986    3.946545  \n",
       "ens.52    3.429977    3.419128    3.396312    3.374553    3.351322  \n",
       "ens.53    4.004824    3.995179    3.986332    3.973695    3.961471  \n",
       "ens.54    4.225079    4.220711    4.199824    4.180199    4.162824  \n",
       "ens.55    4.241904    4.239907    4.227322    4.216386    4.204373  \n",
       "\n",
       "[5 rows x 1461 columns]"
      ]
     },
     "execution_count": 10,
     "metadata": {},
     "output_type": "execute_result"
    }
   ],
   "source": [
    "ensemble_outputs.head()"
   ]
  },
  {
   "cell_type": "code",
   "execution_count": 11,
   "id": "04aa6ebd-e6b2-4c84-a80e-a5ec952e207c",
   "metadata": {
    "tags": []
   },
   "outputs": [
    {
     "data": {
      "text/html": [
       "<div>\n",
       "<style scoped>\n",
       "    .dataframe tbody tr th:only-of-type {\n",
       "        vertical-align: middle;\n",
       "    }\n",
       "\n",
       "    .dataframe tbody tr th {\n",
       "        vertical-align: top;\n",
       "    }\n",
       "\n",
       "    .dataframe thead th {\n",
       "        text-align: right;\n",
       "    }\n",
       "</style>\n",
       "<table border=\"1\" class=\"dataframe\">\n",
       "  <thead>\n",
       "    <tr style=\"text-align: right;\">\n",
       "      <th></th>\n",
       "      <th>priestley_taylor_alpha-snow</th>\n",
       "      <th>priestley_taylor_alpha-transpiration</th>\n",
       "      <th>snowmelt_rate</th>\n",
       "      <th>snowmelt_degree_diff</th>\n",
       "      <th>perm_s3</th>\n",
       "      <th>perm_s4</th>\n",
       "      <th>perm_g1</th>\n",
       "      <th>perm_g4</th>\n",
       "    </tr>\n",
       "    <tr>\n",
       "      <th>realization_id</th>\n",
       "      <th></th>\n",
       "      <th></th>\n",
       "      <th></th>\n",
       "      <th></th>\n",
       "      <th></th>\n",
       "      <th></th>\n",
       "      <th></th>\n",
       "      <th></th>\n",
       "    </tr>\n",
       "  </thead>\n",
       "  <tbody>\n",
       "    <tr>\n",
       "      <th>51</th>\n",
       "      <td>0.595312</td>\n",
       "      <td>1.185938</td>\n",
       "      <td>1.562656</td>\n",
       "      <td>4.5625</td>\n",
       "      <td>-12.366215</td>\n",
       "      <td>-11.667972</td>\n",
       "      <td>-12.469063</td>\n",
       "      <td>-13.59375</td>\n",
       "    </tr>\n",
       "    <tr>\n",
       "      <th>52</th>\n",
       "      <td>0.707812</td>\n",
       "      <td>0.623437</td>\n",
       "      <td>3.103906</td>\n",
       "      <td>4.0625</td>\n",
       "      <td>-12.616215</td>\n",
       "      <td>-11.917972</td>\n",
       "      <td>-13.219063</td>\n",
       "      <td>-12.84375</td>\n",
       "    </tr>\n",
       "    <tr>\n",
       "      <th>53</th>\n",
       "      <td>1.157812</td>\n",
       "      <td>1.073437</td>\n",
       "      <td>5.158906</td>\n",
       "      <td>2.0625</td>\n",
       "      <td>-11.616215</td>\n",
       "      <td>-10.917972</td>\n",
       "      <td>-12.219063</td>\n",
       "      <td>-13.84375</td>\n",
       "    </tr>\n",
       "    <tr>\n",
       "      <th>54</th>\n",
       "      <td>0.932812</td>\n",
       "      <td>0.398438</td>\n",
       "      <td>2.076406</td>\n",
       "      <td>3.0625</td>\n",
       "      <td>-11.116215</td>\n",
       "      <td>-10.417972</td>\n",
       "      <td>-12.719063</td>\n",
       "      <td>-13.34375</td>\n",
       "    </tr>\n",
       "    <tr>\n",
       "      <th>55</th>\n",
       "      <td>0.482812</td>\n",
       "      <td>0.848437</td>\n",
       "      <td>4.131406</td>\n",
       "      <td>1.0625</td>\n",
       "      <td>-12.116215</td>\n",
       "      <td>-11.417972</td>\n",
       "      <td>-11.719063</td>\n",
       "      <td>-12.34375</td>\n",
       "    </tr>\n",
       "  </tbody>\n",
       "</table>\n",
       "</div>"
      ],
      "text/plain": [
       "                priestley_taylor_alpha-snow  \\\n",
       "realization_id                                \n",
       "51                                 0.595312   \n",
       "52                                 0.707812   \n",
       "53                                 1.157812   \n",
       "54                                 0.932812   \n",
       "55                                 0.482812   \n",
       "\n",
       "                priestley_taylor_alpha-transpiration  snowmelt_rate  \\\n",
       "realization_id                                                        \n",
       "51                                          1.185938       1.562656   \n",
       "52                                          0.623437       3.103906   \n",
       "53                                          1.073437       5.158906   \n",
       "54                                          0.398438       2.076406   \n",
       "55                                          0.848437       4.131406   \n",
       "\n",
       "                snowmelt_degree_diff    perm_s3    perm_s4    perm_g1  \\\n",
       "realization_id                                                          \n",
       "51                            4.5625 -12.366215 -11.667972 -12.469063   \n",
       "52                            4.0625 -12.616215 -11.917972 -13.219063   \n",
       "53                            2.0625 -11.616215 -10.917972 -12.219063   \n",
       "54                            3.0625 -11.116215 -10.417972 -12.719063   \n",
       "55                            1.0625 -12.116215 -11.417972 -11.719063   \n",
       "\n",
       "                 perm_g4  \n",
       "realization_id            \n",
       "51             -13.59375  \n",
       "52             -12.84375  \n",
       "53             -13.84375  \n",
       "54             -13.34375  \n",
       "55             -12.34375  "
      ]
     },
     "execution_count": 11,
     "metadata": {},
     "output_type": "execute_result"
    }
   ],
   "source": [
    "ensemble_inputs.head()"
   ]
  },
  {
   "cell_type": "markdown",
   "id": "c070aba1-49d8-4c80-8514-3281a44bd226",
   "metadata": {},
   "source": [
    "# Plot"
   ]
  },
  {
   "cell_type": "code",
   "execution_count": 12,
   "id": "3f559fd1-b2a3-485b-b320-959fc99b3e93",
   "metadata": {},
   "outputs": [],
   "source": [
    "flow = ensemble_outputs.T\n",
    "flow.index = pd.to_datetime(flow.index)\n"
   ]
  },
  {
   "cell_type": "code",
   "execution_count": 27,
   "id": "ec78784d-c0c6-4501-b181-35c99bef8884",
   "metadata": {},
   "outputs": [
    {
     "name": "stderr",
     "output_type": "stream",
     "text": [
      "/tmp/ipykernel_1969943/3380954254.py:5: UserWarning: set_ticklabels() should only be used with a fixed number of ticks, i.e. after set_ticks() or using a FixedLocator.\n",
      "  ax.set_xticklabels(ax.get_xticklabels(), rotation=15);\n"
     ]
    },
    {
     "data": {
      "image/png": "[encoded data removed]",
      "text/plain": [
       "<Figure size 800x200 with 1 Axes>"
      ]
     },
     "metadata": {},
     "output_type": "display_data"
    }
   ],
   "source": [
    "fig, ax = plt.subplots(1, 1, figsize=(8,2))\n",
    "for ens in ens_str:\n",
    "    ax.plot(flow.index, np.power(10, flow[ens].values), 'grey')\n",
    "    ax.set(title='Ensemble discharge simulation', ylabel='[m$^3$/s]')\n",
    "ax.set_xticklabels(ax.get_xticklabels(), rotation=15);\n",
    "    "
   ]
  },
  {
   "cell_type": "markdown",
   "id": "351e13df-2a4d-4d4f-add5-83519075db75",
   "metadata": {},
   "source": [
    "# Save the ensemble"
   ]
  },
  {
   "cell_type": "code",
   "execution_count": null,
   "id": "395b51df-fd6f-4131-ac73-de4100147ca4",
   "metadata": {
    "tags": []
   },
   "outputs": [],
   "source": [
    "ensemble_inputs.to_csv(f_data / 'Output_para.csv')\n",
    "ensemble_outputs.to_csv(f_data / 'Input_logq.csv')\n"
   ]
  },
  {
   "cell_type": "code",
   "execution_count": null,
   "id": "be970d7a-d506-4d79-b556-fb7deb4dd3b3",
   "metadata": {},
   "outputs": [],
   "source": []
  }
 ],
 "metadata": {
  "kernelspec": {
   "display_name": "kim",
   "language": "python",
   "name": "kim"
  },
  "language_info": {
   "codemirror_mode": {
    "name": "ipython",
    "version": 3
   },
   "file_extension": ".py",
   "mimetype": "text/x-python",
   "name": "python",
   "nbconvert_exporter": "python",
   "pygments_lexer": "ipython3",
   "version": "3.12.4"
  }
 },
 "nbformat": 4,
 "nbformat_minor": 5
}
